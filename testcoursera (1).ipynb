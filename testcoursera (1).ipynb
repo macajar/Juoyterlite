{
  "metadata": {
    "kernelspec": {
      "name": "python",
      "display_name": "Python (Pyodide)",
      "language": "python"
    },
    "language_info": {
      "codemirror_mode": {
        "name": "python",
        "version": 3
      },
      "file_extension": ".py",
      "mimetype": "text/x-python",
      "name": "python",
      "nbconvert_exporter": "python",
      "pygments_lexer": "ipython3",
      "version": "3.8"
    }
  },
  "nbformat_minor": 4,
  "nbformat": 4,
  "cells": [
    {
      "cell_type": "markdown",
      "source": "# NOTEBOOK",
      "metadata": {}
    },
    {
      "cell_type": "markdown",
      "source": "## INTRODUCTION\nThe technology keeps growing and new issues to solve have appeared in this globalized world, where we are each time closer to something so important as data management is. Data can be found in almost every aspect of our lives, and they need to be understood if we want to take advantage of the stories that data can tell us. In this document, we will review the basic tools for a data scientist which can take care of thousands of millions of data, improving businesses's performance.\n",
      "metadata": {}
    },
    {
      "cell_type": "markdown",
      "source": "### Programming languages\n1. Python\n2. R\n3. SQL\n4. Java",
      "metadata": {}
    },
    {
      "cell_type": "markdown",
      "source": "### Data science library\n1. Pandas\n2. Numpy\n3. Matplotlib\n4. Tensorflow\n5. Scikit-learn",
      "metadata": {}
    },
    {
      "cell_type": "markdown",
      "source": "### Tools for data science\n<table >\n    <tr>\n        <th >Languages<th>\n        <th> SQL tools <th>\n        <th> Nosql tools <th>\n        <th> Big data <th>\n        <th> Visualization<th>\n        <th> deep learning <th>\n    <tr>\n        \n    \n<tr\n        ><td>Pythond <td\n        ><td>MySQLn <td\n        ><td>MongoDB  <td\n        <td> Hadoop <td>\n        <td> Power BI <td>\n        <td> Tensorflow <td>\n    <tr></tr>\n    <tr><td> R <td>\n        <td> SQL server <td>\n        <td> Redis <td>\n        <td> Spark <td>\n        <td>Tableau <td>\n        <td> Keras <td><tr>\n</table>\n",
      "metadata": {}
    },
    {
      "cell_type": "markdown",
      "source": "### Arithmetic expressions:\n* 3X5\n* 10-8\n* 5+2>",
      "metadata": {}
    },
    {
      "cell_type": "code",
      "source": "x=2\ny=5\nz=x+y\nu=x*y\n",
      "metadata": {
        "trusted": true
      },
      "outputs": [],
      "execution_count": 1
    },
    {
      "cell_type": "code",
      "source": "minutes=30 \nhours=minutes/60",
      "metadata": {
        "trusted": true
      },
      "outputs": [],
      "execution_count": 15
    },
    {
      "cell_type": "markdown",
      "source": "### Objetictives\n* Recognize data science's basic tools.\n* Reinforce jupyter's notebook knowledge.\n* Receive an introduction of what it is necessary to know in order to be a data scientist.",
      "metadata": {}
    },
    {
      "cell_type": "markdown",
      "source": "### Author: Miguel Cajar",
      "metadata": {}
    }
  ]
}